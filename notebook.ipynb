{
 "cells": [
  {
   "cell_type": "markdown",
   "metadata": {},
   "source": [
    "<center> <img src=\"https://oci02.img.iteso.mx/Identidades-De-Instancia/ITESO/Logos%20ITESO/Logo-ITESO-Principal.jpg\" align=\"center\" width=\"650\" height=\"400\"/> </center>"
   ]
  },
  {
   "cell_type": "markdown",
   "metadata": {},
   "source": [
    "<center><font color=#555555><font size=6> MAF1731 - Microstructure and Trading Systems </font> <br> <br>\n",
    "    \n",
    "<center><font color=#555555><font size=5> B.Eng Financial Engineering </font> <br> <br> <br> <br>\n",
    "\n",
    "<center><font color=#555555><font size=6> I.F. Gerardo González </font> <br> <br>\n",
    "    \n",
    "<center><font color=#555555><font size=6> I.F. Tania Bell Nicholls</font> <br> <br>\n",
    "\n",
    "<center> <font color= #555555> <font size = 4> April 2023 </a> | <font color= #555555> <font size = 4> Repository: <a href='https://github.com/Tania-Bell/MyST_Lab4'>Link</a></font>"
   ]
  },
  {
   "cell_type": "markdown",
   "metadata": {},
   "source": [
    "<hr style=\"border:0.02in solid gray\"> </hr>"
   ]
  },
  {
   "cell_type": "markdown",
   "metadata": {},
   "source": [
    "<center> <font color= #555555> <font size = 6> Lab 4 </font> <br> <br> <font color= #555555> <font size = 5>Market's Microstructure </font>"
   ]
  },
  {
   "cell_type": "markdown",
   "metadata": {},
   "source": [
    "<hr style=\"border:0.02in solid gray\"> </hr>"
   ]
  },
  {
   "cell_type": "markdown",
   "metadata": {},
   "source": [
    "<br>"
   ]
  },
  {
   "cell_type": "markdown",
   "metadata": {},
   "source": [
    "<font color= #555555> <font size = 4> Abstract </font>"
   ]
  },
  {
   "cell_type": "markdown",
   "metadata": {},
   "source": [
    "<font color= #6B6B6B> <font size = 3>  Throughout this laboratory, we will use the information from the Cryptocurrency's Book of Orders from various international exchanges, with the primary objective of visualizing and modeling the market's microstructure through it's characteristics and behaviors like Matchine Engine, Levels, Ask-Bid Volumes, etc.    </font>"
   ]
  },
  {
   "cell_type": "markdown",
   "metadata": {},
   "source": [
    "<br>"
   ]
  },
  {
   "cell_type": "markdown",
   "metadata": {},
   "source": [
    "# <font color= #6B6B6B> 0. Install/Load Packages and Depedencies </font>"
   ]
  },
  {
   "cell_type": "markdown",
   "metadata": {},
   "source": [
    "<hr style=\"border:0.02in solid gray\"> </hr>"
   ]
  },
  {
   "cell_type": "markdown",
   "metadata": {},
   "source": [
    "## <font color= #6B6B6B> 0.2 Python Packages </font> <font color= #555555>"
   ]
  },
  {
   "cell_type": "markdown",
   "metadata": {},
   "source": [
    "In order to run this notebook, it is necessary to have installed and/or have the _requirements.txt_ file with the following: "
   ]
  },
  {
   "cell_type": "markdown",
   "metadata": {},
   "source": [
    "- pandas\n",
    "- numpy\n",
    "- jupyter\n",
    "- ccxt\n",
    "- ast\n",
    "- time\n",
    "- asyncio"
   ]
  },
  {
   "cell_type": "markdown",
   "metadata": {},
   "source": [
    "## <font color= #6B6B6B> 0.3 Files Dependencies </font> <font color= #555555>"
   ]
  },
  {
   "cell_type": "markdown",
   "metadata": {},
   "source": [
    "The following are the file dependencies that are needed to run this notebook:"
   ]
  },
  {
   "cell_type": "markdown",
   "metadata": {},
   "source": [
    "- files/dat.csv : DataFrame containing book of orders information"
   ]
  },
  {
   "cell_type": "markdown",
   "metadata": {},
   "source": [
    "## <font color= #6E6E6E> 0.4 Install Packages</font>"
   ]
  },
  {
   "cell_type": "code",
   "execution_count": 1,
   "metadata": {},
   "outputs": [],
   "source": [
    "%%capture\n",
    "\n",
    "# Install all the pip packages in the requirements.txt\n",
    "import sys\n",
    "!{sys.executable} -m pip install -r requirements.txt"
   ]
  },
  {
   "cell_type": "code",
   "execution_count": 4,
   "metadata": {},
   "outputs": [],
   "source": [
    "# importing all libraries\n",
    "import warnings\n",
    "warnings.filterwarnings('ignore')\n",
    "from datetime import timedelta\n",
    "import numpy as np\n",
    "import pandas as pd\n",
    "import ccxt\n",
    "import functions as fn\n",
    "import data as dat\n",
    "import main as mn\n",
    "import visualizations as vn"
   ]
  },
  {
   "cell_type": "code",
   "execution_count": 7,
   "metadata": {},
   "outputs": [],
   "source": [
    "import pandas as pd\n",
    "\n",
    "data = pd.read_csv('files/dat.csv')\n",
    "data_volumes = pd.read_csv('files/data_volumes.csv')"
   ]
  },
  {
   "cell_type": "markdown",
   "metadata": {},
   "source": [
    "# <font color= #6B6B6B> <font size = 5> 1. Introduction </font>"
   ]
  },
  {
   "cell_type": "markdown",
   "metadata": {},
   "source": [
    "This laboratory focuses on using the information in the cryptocurrencies' Book of Orders to visualize and model the market's microstructure. In order to learn about a market's microstructure it is important to have all the information available, for that reason the market chosen for this project was the cryptocurrecy.\n",
    "\n",
    "This project starts with obtaining the most accurate and current information of three different exchange markets and three different trading pairs using the ccxt library. The exchange markets chosen were Binance, Bitfinex and Kraken. The trading pairs chosen were BTC/USDT, ETH/USDT and ADA/USDT. Then the information was organized and summarized taking into account the levels and total bid size and ask size.\n",
    "\n",
    "For the visualization, graphs of the mid price were generated with the plotly library in order to compare the different time series.\n",
    "\n",
    "To complete the objetives, the last part of the lab consisted of modeling the microstructure of the market. This was achieved through estimating the Effective Spread based on the Roll model (1984)."
   ]
  },
  {
   "cell_type": "markdown",
   "metadata": {},
   "source": [
    "# <font color= #6B6B6B> <font size = 5> 2. Objectives </font>"
   ]
  },
  {
   "cell_type": "markdown",
   "metadata": {},
   "source": [
    "- Obtain, clean and analyze the information obtained from the Book of Orders\n",
    "- Visualize the mid price time series\n",
    "- Model the market's microstructure using the effective spread"
   ]
  },
  {
   "cell_type": "markdown",
   "metadata": {},
   "source": [
    "# <font color= #6B6B6B> <font size = 5> 3. Data Description </font>"
   ]
  },
  {
   "cell_type": "markdown",
   "metadata": {},
   "source": [
    "<hr style=\"border:0.02in solid gray\"> </hr>"
   ]
  },
  {
   "cell_type": "markdown",
   "metadata": {},
   "source": [
    "Exchange markets:\n",
    "- Binance\n",
    "- Bitfinex\n",
    "- Kraken\n",
    "\n",
    "Trading pairs:\n",
    "- BTC/USDT\n",
    "- ETH/USDT\n",
    "- ADA/USDT\n",
    "\n",
    "Datetime : timestamp in BO\n",
    "\n",
    "Ask_size : volume of asks\n",
    "\n",
    "Ask_price : price of asks\n",
    "\n",
    "Bid_size : volume of bids\n",
    "\n",
    "Bid_price : price of bids\n",
    "\n",
    "Spread : difference between ask and bid\n",
    "\n",
    "Mid_price : average Top of the Book\n",
    "\n",
    "VWAP : volume-weighted average price\n",
    "\n",
    "Close_price : closing price\n",
    "\n",
    "Levels : trading levels"
   ]
  },
  {
   "cell_type": "code",
   "execution_count": 6,
   "metadata": {},
   "outputs": [
    {
     "data": {
      "text/html": [
       "<div>\n",
       "<style scoped>\n",
       "    .dataframe tbody tr th:only-of-type {\n",
       "        vertical-align: middle;\n",
       "    }\n",
       "\n",
       "    .dataframe tbody tr th {\n",
       "        vertical-align: top;\n",
       "    }\n",
       "\n",
       "    .dataframe thead th {\n",
       "        text-align: right;\n",
       "    }\n",
       "</style>\n",
       "<table border=\"1\" class=\"dataframe\">\n",
       "  <thead>\n",
       "    <tr style=\"text-align: right;\">\n",
       "      <th></th>\n",
       "      <th>Unnamed: 0</th>\n",
       "      <th>exchange</th>\n",
       "      <th>datetime</th>\n",
       "      <th>orderbook</th>\n",
       "    </tr>\n",
       "  </thead>\n",
       "  <tbody>\n",
       "    <tr>\n",
       "      <th>0</th>\n",
       "      <td>0</td>\n",
       "      <td>binance</td>\n",
       "      <td>2023-04-20T03:20:19.463Z</td>\n",
       "      <td>{'ask_size': [25.8783, 0.0014, 0.00045, 0.0007...</td>\n",
       "    </tr>\n",
       "    <tr>\n",
       "      <th>1</th>\n",
       "      <td>1</td>\n",
       "      <td>bitfinex</td>\n",
       "      <td>2023-04-20T03:20:41.657Z</td>\n",
       "      <td>{'ask_size': [0.190762, 0.15, 0.11160896, 0.45...</td>\n",
       "    </tr>\n",
       "    <tr>\n",
       "      <th>2</th>\n",
       "      <td>2</td>\n",
       "      <td>kraken</td>\n",
       "      <td>2023-04-20T03:20:22.197Z</td>\n",
       "      <td>{'ask_size': [0.07, 0.002, 0.007, 0.05, 0.003,...</td>\n",
       "    </tr>\n",
       "    <tr>\n",
       "      <th>3</th>\n",
       "      <td>3</td>\n",
       "      <td>binance</td>\n",
       "      <td>2023-04-20T03:20:54.307Z</td>\n",
       "      <td>{'ask_size': [9.1926, 0.05, 1.7577, 0.0429, 0....</td>\n",
       "    </tr>\n",
       "    <tr>\n",
       "      <th>4</th>\n",
       "      <td>4</td>\n",
       "      <td>bitfinex</td>\n",
       "      <td>2023-04-20T03:21:12.401Z</td>\n",
       "      <td>{'ask_size': [3.5973, 2.19558735, 0.8027098, 3...</td>\n",
       "    </tr>\n",
       "    <tr>\n",
       "      <th>5</th>\n",
       "      <td>5</td>\n",
       "      <td>kraken</td>\n",
       "      <td>2023-04-20T03:20:52.362Z</td>\n",
       "      <td>{'ask_size': [0.7, 0.784, 0.7, 9.689, 0.7, 4.3...</td>\n",
       "    </tr>\n",
       "    <tr>\n",
       "      <th>6</th>\n",
       "      <td>6</td>\n",
       "      <td>binance</td>\n",
       "      <td>2023-04-20T03:21:19.536Z</td>\n",
       "      <td>{'ask_size': [288233.8, 14506.5, 48170.7, 6231...</td>\n",
       "    </tr>\n",
       "    <tr>\n",
       "      <th>7</th>\n",
       "      <td>7</td>\n",
       "      <td>bitfinex</td>\n",
       "      <td>2023-04-20T03:21:40.091Z</td>\n",
       "      <td>{'ask_size': [1198.5, 4541.19912461, 2396.0, 1...</td>\n",
       "    </tr>\n",
       "    <tr>\n",
       "      <th>8</th>\n",
       "      <td>8</td>\n",
       "      <td>kraken</td>\n",
       "      <td>2023-04-20T03:21:21.221Z</td>\n",
       "      <td>{'ask_size': [22.202, 5000.0, 3592.97, 1512.01...</td>\n",
       "    </tr>\n",
       "  </tbody>\n",
       "</table>\n",
       "</div>"
      ],
      "text/plain": [
       "   Unnamed: 0  exchange                  datetime  \\\n",
       "0           0   binance  2023-04-20T03:20:19.463Z   \n",
       "1           1  bitfinex  2023-04-20T03:20:41.657Z   \n",
       "2           2    kraken  2023-04-20T03:20:22.197Z   \n",
       "3           3   binance  2023-04-20T03:20:54.307Z   \n",
       "4           4  bitfinex  2023-04-20T03:21:12.401Z   \n",
       "5           5    kraken  2023-04-20T03:20:52.362Z   \n",
       "6           6   binance  2023-04-20T03:21:19.536Z   \n",
       "7           7  bitfinex  2023-04-20T03:21:40.091Z   \n",
       "8           8    kraken  2023-04-20T03:21:21.221Z   \n",
       "\n",
       "                                           orderbook  \n",
       "0  {'ask_size': [25.8783, 0.0014, 0.00045, 0.0007...  \n",
       "1  {'ask_size': [0.190762, 0.15, 0.11160896, 0.45...  \n",
       "2  {'ask_size': [0.07, 0.002, 0.007, 0.05, 0.003,...  \n",
       "3  {'ask_size': [9.1926, 0.05, 1.7577, 0.0429, 0....  \n",
       "4  {'ask_size': [3.5973, 2.19558735, 0.8027098, 3...  \n",
       "5  {'ask_size': [0.7, 0.784, 0.7, 9.689, 0.7, 4.3...  \n",
       "6  {'ask_size': [288233.8, 14506.5, 48170.7, 6231...  \n",
       "7  {'ask_size': [1198.5, 4541.19912461, 2396.0, 1...  \n",
       "8  {'ask_size': [22.202, 5000.0, 3592.97, 1512.01...  "
      ]
     },
     "execution_count": 6,
     "metadata": {},
     "output_type": "execute_result"
    }
   ],
   "source": [
    "data # it is a dictionary but for visualization terms in the notebook it was downloaded as csv"
   ]
  },
  {
   "cell_type": "markdown",
   "metadata": {},
   "source": [
    "## <font color= #6B6B6B> <font size = 5> 4. Microstructure Visualizations  </font>"
   ]
  },
  {
   "cell_type": "markdown",
   "metadata": {},
   "source": [
    "In order to visualize the information obtained from the Book of Orders, a DataFrame was created with the type of exchange market, timestamp, levels, volume of asks, volume of bids, total volume, mid price and VWAP. This created the right structure to then create the time series shown in the following graphs."
   ]
  },
  {
   "cell_type": "code",
   "execution_count": 8,
   "metadata": {},
   "outputs": [
    {
     "data": {
      "text/html": [
       "<div>\n",
       "<style scoped>\n",
       "    .dataframe tbody tr th:only-of-type {\n",
       "        vertical-align: middle;\n",
       "    }\n",
       "\n",
       "    .dataframe tbody tr th {\n",
       "        vertical-align: top;\n",
       "    }\n",
       "\n",
       "    .dataframe thead th {\n",
       "        text-align: right;\n",
       "    }\n",
       "</style>\n",
       "<table border=\"1\" class=\"dataframe\">\n",
       "  <thead>\n",
       "    <tr style=\"text-align: right;\">\n",
       "      <th></th>\n",
       "      <th>Unnamed: 0</th>\n",
       "      <th>exchange</th>\n",
       "      <th>timestamp</th>\n",
       "      <th>levels</th>\n",
       "      <th>ask_volume</th>\n",
       "      <th>bid_volume</th>\n",
       "      <th>total_volume</th>\n",
       "      <th>mid_price</th>\n",
       "      <th>vwap</th>\n",
       "    </tr>\n",
       "  </thead>\n",
       "  <tbody>\n",
       "    <tr>\n",
       "      <th>0</th>\n",
       "      <td>0</td>\n",
       "      <td>binance</td>\n",
       "      <td>2023-04-20T04:54:31.075Z</td>\n",
       "      <td>100</td>\n",
       "      <td>3.286697e+01</td>\n",
       "      <td>2.901284e+01</td>\n",
       "      <td>6.187981e+01</td>\n",
       "      <td>28880.975000</td>\n",
       "      <td>28883.986686</td>\n",
       "    </tr>\n",
       "    <tr>\n",
       "      <th>1</th>\n",
       "      <td>1</td>\n",
       "      <td>bitfinex</td>\n",
       "      <td>2023-04-20T04:54:51.541Z</td>\n",
       "      <td>25</td>\n",
       "      <td>1.435826e+01</td>\n",
       "      <td>9.510462e+00</td>\n",
       "      <td>2.386872e+01</td>\n",
       "      <td>28887.500000</td>\n",
       "      <td>28889.026941</td>\n",
       "    </tr>\n",
       "    <tr>\n",
       "      <th>2</th>\n",
       "      <td>2</td>\n",
       "      <td>kraken</td>\n",
       "      <td>2023-04-20T04:54:32.261Z</td>\n",
       "      <td>100</td>\n",
       "      <td>4.158800e+01</td>\n",
       "      <td>3.552900e+01</td>\n",
       "      <td>7.711700e+01</td>\n",
       "      <td>28889.200000</td>\n",
       "      <td>28927.085269</td>\n",
       "    </tr>\n",
       "    <tr>\n",
       "      <th>3</th>\n",
       "      <td>3</td>\n",
       "      <td>binance</td>\n",
       "      <td>2023-04-20T04:54:57.194Z</td>\n",
       "      <td>100</td>\n",
       "      <td>5.523844e+02</td>\n",
       "      <td>4.689370e+02</td>\n",
       "      <td>1.021321e+03</td>\n",
       "      <td>1953.565000</td>\n",
       "      <td>1953.599328</td>\n",
       "    </tr>\n",
       "    <tr>\n",
       "      <th>4</th>\n",
       "      <td>4</td>\n",
       "      <td>bitfinex</td>\n",
       "      <td>2023-04-20T04:55:18.355Z</td>\n",
       "      <td>25</td>\n",
       "      <td>9.400409e+01</td>\n",
       "      <td>1.201790e+02</td>\n",
       "      <td>2.141831e+02</td>\n",
       "      <td>1953.350000</td>\n",
       "      <td>1953.133632</td>\n",
       "    </tr>\n",
       "    <tr>\n",
       "      <th>5</th>\n",
       "      <td>5</td>\n",
       "      <td>kraken</td>\n",
       "      <td>2023-04-20T04:54:58.401Z</td>\n",
       "      <td>100</td>\n",
       "      <td>3.134310e+02</td>\n",
       "      <td>4.329910e+02</td>\n",
       "      <td>7.464220e+02</td>\n",
       "      <td>1953.640000</td>\n",
       "      <td>1947.925705</td>\n",
       "    </tr>\n",
       "    <tr>\n",
       "      <th>6</th>\n",
       "      <td>6</td>\n",
       "      <td>binance</td>\n",
       "      <td>2023-04-20T04:55:23.721Z</td>\n",
       "      <td>100</td>\n",
       "      <td>2.172865e+06</td>\n",
       "      <td>2.630674e+06</td>\n",
       "      <td>4.803539e+06</td>\n",
       "      <td>0.419150</td>\n",
       "      <td>0.418632</td>\n",
       "    </tr>\n",
       "    <tr>\n",
       "      <th>7</th>\n",
       "      <td>7</td>\n",
       "      <td>bitfinex</td>\n",
       "      <td>2023-04-20T04:55:44.946Z</td>\n",
       "      <td>25</td>\n",
       "      <td>2.242967e+05</td>\n",
       "      <td>1.293507e+05</td>\n",
       "      <td>3.536474e+05</td>\n",
       "      <td>0.419335</td>\n",
       "      <td>0.419487</td>\n",
       "    </tr>\n",
       "    <tr>\n",
       "      <th>8</th>\n",
       "      <td>8</td>\n",
       "      <td>kraken</td>\n",
       "      <td>2023-04-20T04:55:24.857Z</td>\n",
       "      <td>100</td>\n",
       "      <td>3.196464e+05</td>\n",
       "      <td>2.965490e+05</td>\n",
       "      <td>6.161953e+05</td>\n",
       "      <td>0.419124</td>\n",
       "      <td>0.419603</td>\n",
       "    </tr>\n",
       "  </tbody>\n",
       "</table>\n",
       "</div>"
      ],
      "text/plain": [
       "   Unnamed: 0  exchange                 timestamp  levels    ask_volume  \\\n",
       "0           0   binance  2023-04-20T04:54:31.075Z     100  3.286697e+01   \n",
       "1           1  bitfinex  2023-04-20T04:54:51.541Z      25  1.435826e+01   \n",
       "2           2    kraken  2023-04-20T04:54:32.261Z     100  4.158800e+01   \n",
       "3           3   binance  2023-04-20T04:54:57.194Z     100  5.523844e+02   \n",
       "4           4  bitfinex  2023-04-20T04:55:18.355Z      25  9.400409e+01   \n",
       "5           5    kraken  2023-04-20T04:54:58.401Z     100  3.134310e+02   \n",
       "6           6   binance  2023-04-20T04:55:23.721Z     100  2.172865e+06   \n",
       "7           7  bitfinex  2023-04-20T04:55:44.946Z      25  2.242967e+05   \n",
       "8           8    kraken  2023-04-20T04:55:24.857Z     100  3.196464e+05   \n",
       "\n",
       "     bid_volume  total_volume     mid_price          vwap  \n",
       "0  2.901284e+01  6.187981e+01  28880.975000  28883.986686  \n",
       "1  9.510462e+00  2.386872e+01  28887.500000  28889.026941  \n",
       "2  3.552900e+01  7.711700e+01  28889.200000  28927.085269  \n",
       "3  4.689370e+02  1.021321e+03   1953.565000   1953.599328  \n",
       "4  1.201790e+02  2.141831e+02   1953.350000   1953.133632  \n",
       "5  4.329910e+02  7.464220e+02   1953.640000   1947.925705  \n",
       "6  2.630674e+06  4.803539e+06      0.419150      0.418632  \n",
       "7  1.293507e+05  3.536474e+05      0.419335      0.419487  \n",
       "8  2.965490e+05  6.161953e+05      0.419124      0.419603  "
      ]
     },
     "execution_count": 8,
     "metadata": {},
     "output_type": "execute_result"
    }
   ],
   "source": [
    "data_volumes"
   ]
  },
  {
   "cell_type": "markdown",
   "metadata": {},
   "source": [
    "### # poner graficas aqui"
   ]
  },
  {
   "cell_type": "markdown",
   "metadata": {},
   "source": [
    "<br>"
   ]
  },
  {
   "cell_type": "markdown",
   "metadata": {},
   "source": [
    "## <font color= #6B6B6B> <font size = 5> 5. Microstructure Modeling </font>"
   ]
  },
  {
   "cell_type": "markdown",
   "metadata": {},
   "source": [
    "In order to model the microstructure of the market, the Effective Spread was calculated based on Roll's model (1984). This model provides a simple market microstructure model that allows one to estimate the bid-ask spread from observed transaction prices alone, without information on the underlying bid-ask price quotes and the order. The model developed a simple model to estimate the bid–ask spread using the serial covariance of observable trade prices. The model used in this project is the following:"
   ]
  },
  {
   "cell_type": "markdown",
   "metadata": {},
   "source": [
    "$$2\\sqrt{|COV(\\Delta P_t,\\Delta P_{t-1}|}$$ "
   ]
  },
  {
   "cell_type": "markdown",
   "metadata": {},
   "source": [
    "using the series in $t-5$ for $\\Delta P_{t-1}$."
   ]
  },
  {
   "cell_type": "markdown",
   "metadata": {},
   "source": [
    "###  # poner dataframe effective spread aqui"
   ]
  },
  {
   "cell_type": "markdown",
   "metadata": {},
   "source": [
    "# <font color= #6B6B6B> <font size = 5> 6. Conclusions </font>"
   ]
  },
  {
   "cell_type": "markdown",
   "metadata": {},
   "source": [
    "<hr style=\"border:0.02in solid gray\"> </hr>"
   ]
  },
  {
   "cell_type": "markdown",
   "metadata": {},
   "source": []
  },
  {
   "cell_type": "markdown",
   "metadata": {},
   "source": [
    "<br>"
   ]
  },
  {
   "cell_type": "markdown",
   "metadata": {},
   "source": [
    "# <font color= #6B6B6B> <font size = 5> 7. References </font>"
   ]
  },
  {
   "cell_type": "markdown",
   "metadata": {},
   "source": [
    "<hr style=\"border:0.02in solid gray\"> </hr>"
   ]
  },
  {
   "cell_type": "markdown",
   "metadata": {},
   "source": [
    "Nimalendran, M. (2010). Roll Model. Encyclopedia of Quantitative Finance. https://doi.org/10.1002/9780470061602.eqf18014\n",
    "\n",
    "Semiparametric Identification of the Bid-Ask Spread in Extended. (2015). Core. https://core.ac.uk/download/pdf/146463242.pdf"
   ]
  }
 ],
 "metadata": {
  "kernelspec": {
   "display_name": "Python 3 (ipykernel)",
   "language": "python",
   "name": "python3"
  },
  "language_info": {
   "codemirror_mode": {
    "name": "ipython",
    "version": 3
   },
   "file_extension": ".py",
   "mimetype": "text/x-python",
   "name": "python",
   "nbconvert_exporter": "python",
   "pygments_lexer": "ipython3",
   "version": "3.9.13"
  }
 },
 "nbformat": 4,
 "nbformat_minor": 4
}
